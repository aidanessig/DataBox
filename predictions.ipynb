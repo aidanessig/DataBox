{
 "cells": [
  {
   "cell_type": "code",
   "execution_count": 6,
   "metadata": {},
   "outputs": [],
   "source": [
    "#Import Dependencies\n",
    "import pandas as pd"
   ]
  },
  {
   "cell_type": "code",
   "execution_count": 7,
   "metadata": {},
   "outputs": [
    {
     "name": "stdout",
     "output_type": "stream",
     "text": [
      "  schedule_date  schedule_season schedule_week  schedule_playoff  \\\n",
      "0      9/2/1966             1966             1             False   \n",
      "1      9/3/1966             1966             1             False   \n",
      "2      9/4/1966             1966             1             False   \n",
      "3      9/9/1966             1966             2             False   \n",
      "4     9/10/1966             1966             1             False   \n",
      "\n",
      "            team_home  score_home  score_away        team_away  \\\n",
      "0      Miami Dolphins        14.0        23.0  Oakland Raiders   \n",
      "1      Houston Oilers        45.0         7.0   Denver Broncos   \n",
      "2  San Diego Chargers        27.0         7.0    Buffalo Bills   \n",
      "3      Miami Dolphins        14.0        19.0    New York Jets   \n",
      "4   Green Bay Packers        24.0         3.0  Baltimore Colts   \n",
      "\n",
      "  team_favorite_id  spread_favorite over_under_line         stadium  \\\n",
      "0              NaN              NaN             NaN     Orange Bowl   \n",
      "1              NaN              NaN             NaN    Rice Stadium   \n",
      "2              NaN              NaN             NaN  Balboa Stadium   \n",
      "3              NaN              NaN             NaN     Orange Bowl   \n",
      "4              NaN              NaN             NaN   Lambeau Field   \n",
      "\n",
      "   stadium_neutral  weather_temperature  weather_wind_mph  weather_humidity  \\\n",
      "0            False                 83.0               6.0              71.0   \n",
      "1            False                 81.0               7.0              70.0   \n",
      "2            False                 70.0               7.0              82.0   \n",
      "3            False                 82.0              11.0              78.0   \n",
      "4            False                 64.0               8.0              62.0   \n",
      "\n",
      "  weather_detail  \n",
      "0            NaN  \n",
      "1            NaN  \n",
      "2            NaN  \n",
      "3            NaN  \n",
      "4            NaN  \n"
     ]
    }
   ],
   "source": [
    "#Import Dataset\n",
    "df = pd.read_csv(\"./spreadspoke_scores.csv\")\n",
    "print(df.head())"
   ]
  }
 ],
 "metadata": {
  "kernelspec": {
   "display_name": "Python 3",
   "language": "python",
   "name": "python3"
  },
  "language_info": {
   "codemirror_mode": {
    "name": "ipython",
    "version": 3
   },
   "file_extension": ".py",
   "mimetype": "text/x-python",
   "name": "python",
   "nbconvert_exporter": "python",
   "pygments_lexer": "ipython3",
   "version": "3.12.0"
  }
 },
 "nbformat": 4,
 "nbformat_minor": 2
}
